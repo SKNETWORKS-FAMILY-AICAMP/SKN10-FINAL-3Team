{
 "cells": [
  {
   "cell_type": "markdown",
   "metadata": {},
   "source": [
    "# 토크나이저"
   ]
  },
  {
   "cell_type": "markdown",
   "metadata": {},
   "source": [
    "## [1] 라이브러리 임포트 & 토크나이저 로드"
   ]
  },
  {
   "cell_type": "code",
   "execution_count": 1,
   "metadata": {},
   "outputs": [],
   "source": [
    "from transformers import BertTokenizer\n",
    "from datasets import Dataset\n",
    "\n",
    "tokenizer = BertTokenizer.from_pretrained(\"bert-base-multilingual-cased\")"
   ]
  },
  {
   "cell_type": "markdown",
   "metadata": {},
   "source": [
    "## [2] 사전 처리 함수 정의 (text → input_ids, attention_mask)"
   ]
  },
  {
   "cell_type": "code",
   "execution_count": 2,
   "metadata": {},
   "outputs": [],
   "source": [
    "def tokenize_function(example):\n",
    "    return tokenizer(\n",
    "        example[\"text\"],\n",
    "        padding=\"max_length\",\n",
    "        truncation=True,\n",
    "        max_length=512  # BERT 입력 최대 길이\n",
    "    )"
   ]
  },
  {
   "cell_type": "markdown",
   "metadata": {},
   "source": [
    "## [3] 데이터셋 HuggingFace 형식으로 변환"
   ]
  },
  {
   "cell_type": "code",
   "execution_count": 3,
   "metadata": {},
   "outputs": [],
   "source": [
    "import os\n",
    "import json\n",
    "import pandas as pd\n",
    "\n",
    "# 경로 설정\n",
    "BASE_DIR = os.path.abspath(os.path.join(\"..\"))\n",
    "LABEL_CSV_PATH = os.path.join(BASE_DIR, \"data\", \"gpt4.1_label_1000d.csv\")\n",
    "LABEL_MAP_PATH = os.path.join(BASE_DIR, \"data\", \"label_map.json\")\n",
    "RAW_JSON_DIR = os.path.join(BASE_DIR, \"data\", \"raw\", \"원본\")\n",
    "\n",
    "# 라벨 맵 로딩\n",
    "with open(LABEL_MAP_PATH, \"r\", encoding=\"utf-8\") as f:\n",
    "    label_map = json.load(f)\n",
    "\n",
    "# CSV 로딩\n",
    "df_label = pd.read_csv(LABEL_CSV_PATH)\n"
   ]
  },
  {
   "cell_type": "code",
   "execution_count": 4,
   "metadata": {},
   "outputs": [
    {
     "name": "stderr",
     "output_type": "stream",
     "text": [
      "100%|██████████| 843/843 [00:28<00:00, 29.09it/s]\n"
     ]
    }
   ],
   "source": [
    "from collections import defaultdict\n",
    "from tqdm import tqdm\n",
    "import re\n",
    "\n",
    "def extract_target_text(full_text: str, fallback_len: int = 1000) -> str:\n",
    "    party_info = re.search(r\"(【원고, 피상고인】.*?【피고, 상고인】)\", full_text, re.DOTALL)\n",
    "    judgement_info = re.search(r\"(【주[\\s]*문】.*?)(【이[\\s]*유】|【이유】)\", full_text, re.DOTALL)\n",
    "\n",
    "    combined = \"\"\n",
    "    if party_info:\n",
    "        combined += party_info.group(1).strip() + \"\\n\"\n",
    "    if judgement_info:\n",
    "        combined += judgement_info.group(1).strip()\n",
    "\n",
    "    return combined.strip() if combined.strip() else full_text[:fallback_len].strip()\n",
    "\n",
    "# 전처리 실행\n",
    "data_list = []\n",
    "for _, row in tqdm(df_label.iterrows(), total=len(df_label)):\n",
    "    filename = str(row[\"파일명\"]).strip()\n",
    "    label_str = row[\"라벨링결과\"].strip()\n",
    "    label = label_map.get(label_str, None)\n",
    "\n",
    "    json_path = os.path.join(RAW_JSON_DIR, filename)\n",
    "    if not os.path.exists(json_path) or label is None:\n",
    "        continue\n",
    "\n",
    "    with open(json_path, \"r\", encoding=\"utf-8\") as f:\n",
    "        case_data = json.load(f)\n",
    "\n",
    "    full_text = case_data.get(\"판례내용\", \"\")\n",
    "    if not full_text:\n",
    "        continue\n",
    "\n",
    "    trimmed_text = extract_target_text(full_text)\n",
    "    if trimmed_text:\n",
    "        data_list.append({\n",
    "            \"text\": trimmed_text,\n",
    "            \"label\": label\n",
    "        })\n",
    "\n",
    "# 라벨 3(각하), 6(취하) 제외\n",
    "filtered_data_list = [x for x in data_list if x[\"label\"] not in [3, 6]]\n"
   ]
  },
  {
   "cell_type": "code",
   "execution_count": 12,
   "metadata": {},
   "outputs": [
    {
     "name": "stdout",
     "output_type": "stream",
     "text": [
      "【원고, 피상고인】 원고 (소송대리인 변호사 정장훈)\n",
      "【피고, 상고인】\n",
      "【주    문】\n",
      "  원심판결 중 일실수입에 관한 피고들 패소 부분을 파기하고, 그 부분 사건을 서울지방법원 본원 합의부에 환송한다.\n",
      "  피고들의 나머지 상고를 각 기각한다.\n",
      "  상고가 기각된 부분에 대한 상고비용은 피고들의 부담으로 한다.\n",
      "\n",
      "\n"
     ]
    }
   ],
   "source": [
    "print(filtered_data_list[0]['text'].replace('<br/>', '\\n'))"
   ]
  },
  {
   "cell_type": "code",
   "execution_count": 5,
   "metadata": {},
   "outputs": [],
   "source": [
    "from sklearn.model_selection import train_test_split\n",
    "\n",
    "train_val, test = train_test_split(\n",
    "    filtered_data_list,\n",
    "    test_size=0.1,\n",
    "    random_state=42,\n",
    "    stratify=[x[\"label\"] for x in filtered_data_list]\n",
    ")\n",
    "\n",
    "train, val = train_test_split(\n",
    "    train_val,\n",
    "    test_size=2/9,\n",
    "    random_state=42,\n",
    "    stratify=[x[\"label\"] for x in train_val]\n",
    ")\n"
   ]
  },
  {
   "cell_type": "code",
   "execution_count": 6,
   "metadata": {},
   "outputs": [],
   "source": [
    "train_dataset = Dataset.from_list(train)\n",
    "val_dataset = Dataset.from_list(val)\n",
    "test_dataset = Dataset.from_list(test)"
   ]
  },
  {
   "cell_type": "markdown",
   "metadata": {},
   "source": [
    "## [4] 토크나이징 적용"
   ]
  },
  {
   "cell_type": "code",
   "execution_count": 7,
   "metadata": {},
   "outputs": [
    {
     "data": {
      "application/vnd.jupyter.widget-view+json": {
       "model_id": "e2dfcc878d6e4226a15fcd53dc8ca68d",
       "version_major": 2,
       "version_minor": 0
      },
      "text/plain": [
       "Map:   0%|          | 0/586 [00:00<?, ? examples/s]"
      ]
     },
     "metadata": {},
     "output_type": "display_data"
    },
    {
     "data": {
      "application/vnd.jupyter.widget-view+json": {
       "model_id": "d9475f2a57804653bcf77cbaec6fee86",
       "version_major": 2,
       "version_minor": 0
      },
      "text/plain": [
       "Map:   0%|          | 0/168 [00:00<?, ? examples/s]"
      ]
     },
     "metadata": {},
     "output_type": "display_data"
    },
    {
     "data": {
      "application/vnd.jupyter.widget-view+json": {
       "model_id": "d55749b49236420cb12c9092dc02e450",
       "version_major": 2,
       "version_minor": 0
      },
      "text/plain": [
       "Map:   0%|          | 0/84 [00:00<?, ? examples/s]"
      ]
     },
     "metadata": {},
     "output_type": "display_data"
    }
   ],
   "source": [
    "tokenized_train = train_dataset.map(tokenize_function, batched=True)\n",
    "tokenized_val = val_dataset.map(tokenize_function, batched=True)\n",
    "tokenized_test = test_dataset.map(tokenize_function, batched=True)"
   ]
  },
  {
   "cell_type": "code",
   "execution_count": 8,
   "metadata": {},
   "outputs": [
    {
     "name": "stdout",
     "output_type": "stream",
     "text": [
      "{'text': '【주    문】<br/>원심판결의 본소에 관한 지연손해금 부분 중 피고(반소원고)에 대하여 132,928,990원에 대한 2001. 2. 27.부터 2007. 2. 27.까지는 연 5%, 그 다음날부터 갚는 날까지는 연 20%의 각 비율에 의한 금원을 초과하여 지급을 명한 피고(반소원고) 패소 부분을 파기하고, 그 부분에 해당하는 원심에서 교환적으로 변경된 원고(반소피고)의 지연손해금 청구를 기각한다.   원심판결의 반소에 관한 지연손해금 부분을 파기하여 그 부분 제1심판결을 취소하고, 그에 해당하는 피고(반소원고)의 청구를 기각한다.  각 나머지 상고를 기각한다.  소송총비용은 본소, 반소를 통틀어 각 50%씩 부담한다.<br/><br/>', 'label': 4, 'input_ids': [101, 1894, 9689, 9297, 1895, 133, 33989, 120, 135, 9612, 71013, 33323, 74322, 10459, 9358, 22333, 10530, 42300, 9706, 25486, 119053, 14523, 40032, 9365, 37712, 9694, 9946, 11664, 113, 9321, 22333, 14279, 11664, 114, 9559, 68357, 18385, 117, 75340, 117, 55291, 108280, 18154, 10272, 119, 123, 119, 10365, 119, 9365, 21876, 10202, 119, 123, 119, 10365, 119, 8939, 32815, 9568, 126, 110, 117, 8924, 52292, 41919, 17655, 8856, 11018, 8985, 18382, 11018, 9568, 10197, 110, 9637, 8844, 9379, 119183, 10530, 60804, 8928, 51684, 9757, 11882, 13374, 9706, 37568, 10622, 9281, 11102, 9946, 11664, 113, 9321, 22333, 14279, 11664, 114, 9909, 22333, 9365, 97005, 9901, 12310, 12453, 117, 8924, 9365, 110355, 91621, 12178, 9612, 71013, 11489, 8907, 51745, 17022, 60839, 13441, 9612, 11664, 113, 9321, 22333, 97146, 11664, 114, 9637, 9706, 25486, 119053, 14523, 40032, 9751, 97371, 8932, 66540, 14102, 119, 9612, 71013, 33323, 74322, 10459, 9321, 22333, 10530, 42300, 9706, 25486, 119053, 14523, 40032, 9365, 97005, 9901, 12310, 13374, 8924, 9365, 37712, 9672, 10759, 71013, 33323, 74322, 10622, 9773, 22333, 12453, 117, 8924, 10530, 91621, 12178, 9946, 11664, 113, 9321, 22333, 14279, 11664, 114, 9637, 9751, 97371, 8932, 66540, 14102, 119, 8844, 8982, 118920, 12508, 9414, 11664, 11513, 8932, 66540, 14102, 119, 9448, 119057, 119270, 29455, 24974, 10892, 9358, 22333, 117, 9321, 86488, 9879, 119373, 12965, 8844, 10462, 110, 9517, 9365, 105462, 14102, 119, 133, 33989, 120, 135, 133, 33989, 120, 135, 102, 0, 0, 0, 0, 0, 0, 0, 0, 0, 0, 0, 0, 0, 0, 0, 0, 0, 0, 0, 0, 0, 0, 0, 0, 0, 0, 0, 0, 0, 0, 0, 0, 0, 0, 0, 0, 0, 0, 0, 0, 0, 0, 0, 0, 0, 0, 0, 0, 0, 0, 0, 0, 0, 0, 0, 0, 0, 0, 0, 0, 0, 0, 0, 0, 0, 0, 0, 0, 0, 0, 0, 0, 0, 0, 0, 0, 0, 0, 0, 0, 0, 0, 0, 0, 0, 0, 0, 0, 0, 0, 0, 0, 0, 0, 0, 0, 0, 0, 0, 0, 0, 0, 0, 0, 0, 0, 0, 0, 0, 0, 0, 0, 0, 0, 0, 0, 0, 0, 0, 0, 0, 0, 0, 0, 0, 0, 0, 0, 0, 0, 0, 0, 0, 0, 0, 0, 0, 0, 0, 0, 0, 0, 0, 0, 0, 0, 0, 0, 0, 0, 0, 0, 0, 0, 0, 0, 0, 0, 0, 0, 0, 0, 0, 0, 0, 0, 0, 0, 0, 0, 0, 0, 0, 0, 0, 0, 0, 0, 0, 0, 0, 0, 0, 0, 0, 0, 0, 0, 0, 0, 0, 0, 0, 0, 0, 0, 0, 0, 0, 0, 0, 0, 0, 0, 0, 0, 0, 0, 0, 0, 0, 0, 0, 0, 0, 0, 0, 0, 0, 0, 0, 0, 0, 0, 0, 0, 0, 0, 0, 0, 0, 0, 0, 0, 0, 0, 0, 0, 0, 0, 0, 0, 0, 0, 0, 0, 0, 0, 0, 0, 0, 0, 0, 0, 0, 0, 0, 0, 0, 0, 0, 0, 0, 0, 0, 0, 0, 0, 0, 0, 0, 0, 0, 0, 0, 0, 0, 0, 0], 'token_type_ids': [0, 0, 0, 0, 0, 0, 0, 0, 0, 0, 0, 0, 0, 0, 0, 0, 0, 0, 0, 0, 0, 0, 0, 0, 0, 0, 0, 0, 0, 0, 0, 0, 0, 0, 0, 0, 0, 0, 0, 0, 0, 0, 0, 0, 0, 0, 0, 0, 0, 0, 0, 0, 0, 0, 0, 0, 0, 0, 0, 0, 0, 0, 0, 0, 0, 0, 0, 0, 0, 0, 0, 0, 0, 0, 0, 0, 0, 0, 0, 0, 0, 0, 0, 0, 0, 0, 0, 0, 0, 0, 0, 0, 0, 0, 0, 0, 0, 0, 0, 0, 0, 0, 0, 0, 0, 0, 0, 0, 0, 0, 0, 0, 0, 0, 0, 0, 0, 0, 0, 0, 0, 0, 0, 0, 0, 0, 0, 0, 0, 0, 0, 0, 0, 0, 0, 0, 0, 0, 0, 0, 0, 0, 0, 0, 0, 0, 0, 0, 0, 0, 0, 0, 0, 0, 0, 0, 0, 0, 0, 0, 0, 0, 0, 0, 0, 0, 0, 0, 0, 0, 0, 0, 0, 0, 0, 0, 0, 0, 0, 0, 0, 0, 0, 0, 0, 0, 0, 0, 0, 0, 0, 0, 0, 0, 0, 0, 0, 0, 0, 0, 0, 0, 0, 0, 0, 0, 0, 0, 0, 0, 0, 0, 0, 0, 0, 0, 0, 0, 0, 0, 0, 0, 0, 0, 0, 0, 0, 0, 0, 0, 0, 0, 0, 0, 0, 0, 0, 0, 0, 0, 0, 0, 0, 0, 0, 0, 0, 0, 0, 0, 0, 0, 0, 0, 0, 0, 0, 0, 0, 0, 0, 0, 0, 0, 0, 0, 0, 0, 0, 0, 0, 0, 0, 0, 0, 0, 0, 0, 0, 0, 0, 0, 0, 0, 0, 0, 0, 0, 0, 0, 0, 0, 0, 0, 0, 0, 0, 0, 0, 0, 0, 0, 0, 0, 0, 0, 0, 0, 0, 0, 0, 0, 0, 0, 0, 0, 0, 0, 0, 0, 0, 0, 0, 0, 0, 0, 0, 0, 0, 0, 0, 0, 0, 0, 0, 0, 0, 0, 0, 0, 0, 0, 0, 0, 0, 0, 0, 0, 0, 0, 0, 0, 0, 0, 0, 0, 0, 0, 0, 0, 0, 0, 0, 0, 0, 0, 0, 0, 0, 0, 0, 0, 0, 0, 0, 0, 0, 0, 0, 0, 0, 0, 0, 0, 0, 0, 0, 0, 0, 0, 0, 0, 0, 0, 0, 0, 0, 0, 0, 0, 0, 0, 0, 0, 0, 0, 0, 0, 0, 0, 0, 0, 0, 0, 0, 0, 0, 0, 0, 0, 0, 0, 0, 0, 0, 0, 0, 0, 0, 0, 0, 0, 0, 0, 0, 0, 0, 0, 0, 0, 0, 0, 0, 0, 0, 0, 0, 0, 0, 0, 0, 0, 0, 0, 0, 0, 0, 0, 0, 0, 0, 0, 0, 0, 0, 0, 0, 0, 0, 0, 0, 0, 0, 0, 0, 0, 0, 0, 0, 0, 0, 0, 0, 0, 0, 0, 0, 0, 0, 0, 0, 0, 0, 0, 0, 0, 0, 0, 0, 0, 0, 0, 0, 0, 0, 0, 0, 0, 0, 0, 0, 0], 'attention_mask': [1, 1, 1, 1, 1, 1, 1, 1, 1, 1, 1, 1, 1, 1, 1, 1, 1, 1, 1, 1, 1, 1, 1, 1, 1, 1, 1, 1, 1, 1, 1, 1, 1, 1, 1, 1, 1, 1, 1, 1, 1, 1, 1, 1, 1, 1, 1, 1, 1, 1, 1, 1, 1, 1, 1, 1, 1, 1, 1, 1, 1, 1, 1, 1, 1, 1, 1, 1, 1, 1, 1, 1, 1, 1, 1, 1, 1, 1, 1, 1, 1, 1, 1, 1, 1, 1, 1, 1, 1, 1, 1, 1, 1, 1, 1, 1, 1, 1, 1, 1, 1, 1, 1, 1, 1, 1, 1, 1, 1, 1, 1, 1, 1, 1, 1, 1, 1, 1, 1, 1, 1, 1, 1, 1, 1, 1, 1, 1, 1, 1, 1, 1, 1, 1, 1, 1, 1, 1, 1, 1, 1, 1, 1, 1, 1, 1, 1, 1, 1, 1, 1, 1, 1, 1, 1, 1, 1, 1, 1, 1, 1, 1, 1, 1, 1, 1, 1, 1, 1, 1, 1, 1, 1, 1, 1, 1, 1, 1, 1, 1, 1, 1, 1, 1, 1, 1, 1, 1, 1, 1, 1, 1, 1, 1, 1, 1, 1, 1, 1, 1, 1, 1, 1, 1, 1, 1, 1, 1, 1, 1, 1, 1, 1, 1, 1, 1, 1, 1, 1, 1, 1, 1, 1, 1, 1, 1, 1, 1, 1, 1, 1, 1, 1, 0, 0, 0, 0, 0, 0, 0, 0, 0, 0, 0, 0, 0, 0, 0, 0, 0, 0, 0, 0, 0, 0, 0, 0, 0, 0, 0, 0, 0, 0, 0, 0, 0, 0, 0, 0, 0, 0, 0, 0, 0, 0, 0, 0, 0, 0, 0, 0, 0, 0, 0, 0, 0, 0, 0, 0, 0, 0, 0, 0, 0, 0, 0, 0, 0, 0, 0, 0, 0, 0, 0, 0, 0, 0, 0, 0, 0, 0, 0, 0, 0, 0, 0, 0, 0, 0, 0, 0, 0, 0, 0, 0, 0, 0, 0, 0, 0, 0, 0, 0, 0, 0, 0, 0, 0, 0, 0, 0, 0, 0, 0, 0, 0, 0, 0, 0, 0, 0, 0, 0, 0, 0, 0, 0, 0, 0, 0, 0, 0, 0, 0, 0, 0, 0, 0, 0, 0, 0, 0, 0, 0, 0, 0, 0, 0, 0, 0, 0, 0, 0, 0, 0, 0, 0, 0, 0, 0, 0, 0, 0, 0, 0, 0, 0, 0, 0, 0, 0, 0, 0, 0, 0, 0, 0, 0, 0, 0, 0, 0, 0, 0, 0, 0, 0, 0, 0, 0, 0, 0, 0, 0, 0, 0, 0, 0, 0, 0, 0, 0, 0, 0, 0, 0, 0, 0, 0, 0, 0, 0, 0, 0, 0, 0, 0, 0, 0, 0, 0, 0, 0, 0, 0, 0, 0, 0, 0, 0, 0, 0, 0, 0, 0, 0, 0, 0, 0, 0, 0, 0, 0, 0, 0, 0, 0, 0, 0, 0, 0, 0, 0, 0, 0, 0, 0, 0, 0, 0, 0, 0, 0, 0, 0, 0, 0, 0, 0, 0, 0, 0, 0, 0, 0, 0, 0, 0, 0, 0, 0, 0]}\n"
     ]
    }
   ],
   "source": [
    "print(tokenized_train[0])"
   ]
  },
  {
   "cell_type": "code",
   "execution_count": null,
   "metadata": {},
   "outputs": [],
   "source": []
  }
 ],
 "metadata": {
  "kernelspec": {
   "display_name": ".venv",
   "language": "python",
   "name": "python3"
  },
  "language_info": {
   "codemirror_mode": {
    "name": "ipython",
    "version": 3
   },
   "file_extension": ".py",
   "mimetype": "text/x-python",
   "name": "python",
   "nbconvert_exporter": "python",
   "pygments_lexer": "ipython3",
   "version": "3.13.1"
  }
 },
 "nbformat": 4,
 "nbformat_minor": 2
}
