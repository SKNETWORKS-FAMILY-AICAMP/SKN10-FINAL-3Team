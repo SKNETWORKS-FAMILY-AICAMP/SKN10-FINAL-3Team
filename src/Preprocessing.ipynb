{
 "cells": [
  {
   "cell_type": "markdown",
   "metadata": {},
   "source": [
    "# 전처리"
   ]
  },
  {
   "cell_type": "markdown",
   "metadata": {},
   "source": [
    "## [1] 환경 설정"
   ]
  },
  {
   "cell_type": "code",
   "execution_count": 1,
   "metadata": {},
   "outputs": [],
   "source": [
    "import os\n",
    "import json\n",
    "import pandas as pd\n",
    "from sklearn.model_selection import train_test_split\n",
    "import re\n",
    "from tqdm.auto import tqdm\n",
    "\n",
    "tqdm.pandas()"
   ]
  },
  {
   "cell_type": "markdown",
   "metadata": {},
   "source": [
    "## [2] 경로 설정"
   ]
  },
  {
   "cell_type": "code",
   "execution_count": 2,
   "metadata": {},
   "outputs": [],
   "source": [
    "# 현재 notebook 위치: scr/\n",
    "BASE_DIR = os.path.abspath(os.path.join(\"..\"))\n",
    "\n",
    "LABEL_CSV_PATH = os.path.join(BASE_DIR, \"data\", \"gpt4.1_label_1000d.csv\")\n",
    "LABEL_MAP_PATH = os.path.join(BASE_DIR, \"data\", \"label_map.json\")\n",
    "RAW_JSON_DIR = os.path.join(BASE_DIR, \"data\", \"raw\", \"원본\")\n",
    "OUTPUT_DIR = os.path.join(BASE_DIR, \"data\", \"processed\")\n",
    "\n",
    "os.makedirs(OUTPUT_DIR, exist_ok=True)"
   ]
  },
  {
   "cell_type": "markdown",
   "metadata": {},
   "source": [
    "## [3] 라벨 파일 로딩"
   ]
  },
  {
   "cell_type": "code",
   "execution_count": 3,
   "metadata": {},
   "outputs": [
    {
     "name": "stdout",
     "output_type": "stream",
     "text": [
      "Index(['사건번호', '파일명', '라벨링결과'], dtype='object')\n"
     ]
    }
   ],
   "source": [
    "# label_map 로드\n",
    "with open(LABEL_MAP_PATH, \"r\", encoding=\"utf-8\") as f:\n",
    "    label_map = json.load(f)\n",
    "\n",
    "# 라벨 CSV 로딩\n",
    "df_label = pd.read_csv(LABEL_CSV_PATH)\n",
    "print(df_label.columns)  # \"사건번호\", \"라벨링결과\" 같은지 확인\n"
   ]
  },
  {
   "cell_type": "markdown",
   "metadata": {},
   "source": [
    "## [4] 텍스트 추출 함수"
   ]
  },
  {
   "cell_type": "code",
   "execution_count": 5,
   "metadata": {},
   "outputs": [],
   "source": [
    "def extract_target_text(full_text: str) -> str:\n",
    "    party_info = re.search(r\"(【원고, 피상고인】.*?【피고, 상고인】)\", full_text, re.DOTALL)\n",
    "    judgement_info = re.search(r\"(【주[\\s]*문】.*?)(【이[\\s]*유】|【이유】)\", full_text, re.DOTALL)\n",
    "\n",
    "    combined = \"\"\n",
    "    if party_info:\n",
    "        combined += party_info.group(1).strip() + \"\\n\"\n",
    "    if judgement_info:\n",
    "        combined += judgement_info.group(1).strip()\n",
    "    return combined.strip()\n"
   ]
  },
  {
   "cell_type": "markdown",
   "metadata": {},
   "source": [
    "## [5] 원본 JSON 순회 및 전처리"
   ]
  },
  {
   "cell_type": "code",
   "execution_count": 14,
   "metadata": {},
   "outputs": [
    {
     "data": {
      "application/vnd.jupyter.widget-view+json": {
       "model_id": "101d894023b14b3bb422aa51f2117de4",
       "version_major": 2,
       "version_minor": 0
      },
      "text/plain": [
       "  0%|          | 0/843 [00:00<?, ?it/s]"
      ]
     },
     "metadata": {},
     "output_type": "display_data"
    },
    {
     "name": "stdout",
     "output_type": "stream",
     "text": [
      "\n",
      "✅ 총 usable 샘플 수: 843\n",
      "\n",
      "❌ regex_fail_fallback: 3건\n",
      "\n",
      "❗ fallback 처리된 파일명 리스트 (정규식 실패)\n",
      "- 213723.json\n",
      "- 216653.json\n",
      "- 223575.json\n",
      "\n",
      "📝 fallback 처리 리스트 저장됨: c:\\dev\\github\\SKN10-FINAL-3Team\\data\\processed\\regex_fallback_list.txt\n"
     ]
    }
   ],
   "source": [
    "from collections import defaultdict\n",
    "from tqdm.auto import tqdm\n",
    "import os\n",
    "import json\n",
    "\n",
    "data_list = []\n",
    "missing_stats = defaultdict(list)\n",
    "\n",
    "def extract_target_text_with_fallback(full_text: str, fallback_len: int = 1000) -> str:\n",
    "    import re\n",
    "    party_info = re.search(r\"(【원고, 피상고인】.*?【피고, 상고인】)\", full_text, re.DOTALL)\n",
    "    judgement_info = re.search(r\"(【주[\\s]*문】.*?)(【이[\\s]*유】|【이유】)\", full_text, re.DOTALL)\n",
    "\n",
    "    combined = \"\"\n",
    "    if party_info:\n",
    "        combined += party_info.group(1).strip() + \"\\n\"\n",
    "    if judgement_info:\n",
    "        combined += judgement_info.group(1).strip()\n",
    "\n",
    "    if combined.strip():\n",
    "        return combined.strip()\n",
    "    else:\n",
    "        return full_text[:fallback_len].strip()  # fallback 사용\n",
    "\n",
    "# 전처리 시작\n",
    "for idx, row in tqdm(df_label.iterrows(), total=len(df_label)):\n",
    "    filename = str(row[\"파일명\"]).strip()\n",
    "    label_str = row[\"라벨링결과\"].strip()\n",
    "    label = label_map.get(label_str, None)\n",
    "\n",
    "    if label is None:\n",
    "        missing_stats[\"label_map_error\"].append(filename)\n",
    "        continue\n",
    "\n",
    "    json_path = os.path.join(RAW_JSON_DIR, filename)\n",
    "    if not os.path.exists(json_path):\n",
    "        missing_stats[\"file_missing\"].append(filename)\n",
    "        continue\n",
    "\n",
    "    try:\n",
    "        with open(json_path, \"r\", encoding=\"utf-8\") as f:\n",
    "            case_data = json.load(f)\n",
    "    except Exception as e:\n",
    "        missing_stats[\"json_read_error\"].append(filename)\n",
    "        continue\n",
    "\n",
    "    full_text = case_data.get(\"판례내용\", \"\")\n",
    "    if not full_text:\n",
    "        missing_stats[\"no 판례내용\"].append(filename)\n",
    "        continue\n",
    "\n",
    "    trimmed_text = extract_target_text_with_fallback(full_text)\n",
    "    if trimmed_text.strip() == full_text[:1000].strip():\n",
    "        missing_stats[\"regex_fail_fallback\"].append(filename)\n",
    "\n",
    "    data_list.append({\n",
    "        \"text\": trimmed_text,\n",
    "        \"label\": label\n",
    "    })\n",
    "\n",
    "print(f\"\\n✅ 총 usable 샘플 수: {len(data_list)}\\n\")\n",
    "\n",
    "for reason, files in missing_stats.items():\n",
    "    print(f\"❌ {reason}: {len(files)}건\")\n",
    "\n",
    "# regex_fail_fallback 파일 리스트 출력 (최대 10개만 보기)\n",
    "print(\"\\n❗ fallback 처리된 파일명 리스트 (정규식 실패)\")\n",
    "for f in missing_stats[\"regex_fail_fallback\"][:10]:\n",
    "    print(\"-\", f)\n",
    "\n",
    "# 필요하면 전체를 파일로 저장\n",
    "fallback_list_path = os.path.join(OUTPUT_DIR, \"regex_fallback_list.txt\")\n",
    "with open(fallback_list_path, \"w\", encoding=\"utf-8\") as fw:\n",
    "    for f in missing_stats[\"regex_fail_fallback\"]:\n",
    "        fw.write(f + \"\\n\")\n",
    "\n",
    "print(f\"\\n📝 fallback 처리 리스트 저장됨: {fallback_list_path}\")"
   ]
  },
  {
   "cell_type": "markdown",
   "metadata": {},
   "source": [
    "## [6] 7:2:1 분할"
   ]
  },
  {
   "cell_type": "code",
   "execution_count": 16,
   "metadata": {},
   "outputs": [
    {
     "name": "stdout",
     "output_type": "stream",
     "text": [
      "라벨 7: 117개\n",
      "라벨 4: 209개\n",
      "라벨 0: 133개\n",
      "라벨 5: 62개\n",
      "라벨 2: 151개\n",
      "라벨 1: 166개\n",
      "라벨 3: 4개\n",
      "라벨 6: 1개\n"
     ]
    }
   ],
   "source": [
    "from collections import Counter\n",
    "\n",
    "label_counts = Counter([x[\"label\"] for x in data_list])\n",
    "for label_id, count in label_counts.items():\n",
    "    print(f\"라벨 {label_id}: {count}개\")"
   ]
  },
  {
   "cell_type": "code",
   "execution_count": 18,
   "metadata": {},
   "outputs": [
    {
     "name": "stdout",
     "output_type": "stream",
     "text": [
      "제외 후 usable 샘플 수: 838\n"
     ]
    }
   ],
   "source": [
    "# 라벨 3 (\"각하\"), 라벨 6 (\"취하\") 제거\n",
    "filtered_data_list = [x for x in data_list if x[\"label\"] not in [3, 6]]\n",
    "print(f\"제외 후 usable 샘플 수: {len(filtered_data_list)}\")"
   ]
  },
  {
   "cell_type": "code",
   "execution_count": 22,
   "metadata": {},
   "outputs": [
    {
     "name": "stdout",
     "output_type": "stream",
     "text": [
      "Train: 586, Val: 168, Test: 84\n"
     ]
    }
   ],
   "source": [
    "from sklearn.model_selection import train_test_split\n",
    "\n",
    "# test 10%\n",
    "train_val, test = train_test_split(\n",
    "    filtered_data_list,\n",
    "    test_size=0.1,\n",
    "    random_state=42,\n",
    "    stratify=[x[\"label\"] for x in filtered_data_list]\n",
    ")\n",
    "\n",
    "# train:val = 7:2 → val 비율은 2/9\n",
    "train, val = train_test_split(\n",
    "    train_val,\n",
    "    test_size=2/9,\n",
    "    random_state=42,\n",
    "    stratify=[x[\"label\"] for x in train_val]\n",
    ")\n",
    "\n",
    "print(f\"Train: {len(train)}, Val: {len(val)}, Test: {len(test)}\")\n",
    "\n"
   ]
  },
  {
   "cell_type": "code",
   "execution_count": 24,
   "metadata": {},
   "outputs": [
    {
     "name": "stdout",
     "output_type": "stream",
     "text": [
      "\n",
      "📊 Train 분포:\n",
      "인용 (0): 93개\n",
      "일부인용 (1): 116개\n",
      "기각 (2): 106개\n",
      "파기환송 (4): 146개\n",
      "원심유지 (5): 43개\n",
      "파기환송, 원심유지 (7): 82개\n",
      "\n",
      "📊 Val 분포:\n",
      "인용 (0): 27개\n",
      "일부인용 (1): 33개\n",
      "기각 (2): 30개\n",
      "파기환송 (4): 42개\n",
      "원심유지 (5): 13개\n",
      "파기환송, 원심유지 (7): 23개\n",
      "\n",
      "📊 Test 분포:\n",
      "인용 (0): 13개\n",
      "일부인용 (1): 17개\n",
      "기각 (2): 15개\n",
      "파기환송 (4): 21개\n",
      "원심유지 (5): 6개\n",
      "파기환송, 원심유지 (7): 12개\n"
     ]
    }
   ],
   "source": [
    "from collections import Counter\n",
    "\n",
    "def print_label_distribution(data, label_map):\n",
    "    id_to_label = {v: k for k, v in label_map.items()}\n",
    "    counts = Counter([x[\"label\"] for x in data])\n",
    "    for label_id, count in sorted(counts.items()):\n",
    "        label_name = id_to_label.get(label_id, \"Unknown\")\n",
    "        print(f\"{label_name} ({label_id}): {count}개\")\n",
    "\n",
    "print(\"\\n📊 Train 분포:\")\n",
    "print_label_distribution(train, label_map)\n",
    "print(\"\\n📊 Val 분포:\")\n",
    "print_label_distribution(val, label_map)\n",
    "print(\"\\n📊 Test 분포:\")\n",
    "print_label_distribution(test, label_map)"
   ]
  },
  {
   "cell_type": "markdown",
   "metadata": {},
   "source": [
    " ## [7] 전처리 결과 저장"
   ]
  },
  {
   "cell_type": "code",
   "execution_count": 21,
   "metadata": {},
   "outputs": [
    {
     "name": "stdout",
     "output_type": "stream",
     "text": [
      "✅ 데이터 저장 완료!\n"
     ]
    }
   ],
   "source": [
    "with open(os.path.join(OUTPUT_DIR, \"train_data.json\"), \"w\", encoding=\"utf-8\") as f:\n",
    "    json.dump(train, f, ensure_ascii=False, indent=2)\n",
    "\n",
    "with open(os.path.join(OUTPUT_DIR, \"val_data.json\"), \"w\", encoding=\"utf-8\") as f:\n",
    "    json.dump(val, f, ensure_ascii=False, indent=2)\n",
    "\n",
    "with open(os.path.join(OUTPUT_DIR, \"test_data.json\"), \"w\", encoding=\"utf-8\") as f:\n",
    "    json.dump(test, f, ensure_ascii=False, indent=2)\n",
    "\n",
    "print(\"✅ 데이터 저장 완료!\")\n"
   ]
  }
 ],
 "metadata": {
  "kernelspec": {
   "display_name": ".venv",
   "language": "python",
   "name": "python3"
  },
  "language_info": {
   "codemirror_mode": {
    "name": "ipython",
    "version": 3
   },
   "file_extension": ".py",
   "mimetype": "text/x-python",
   "name": "python",
   "nbconvert_exporter": "python",
   "pygments_lexer": "ipython3",
   "version": "3.13.1"
  }
 },
 "nbformat": 4,
 "nbformat_minor": 2
}
