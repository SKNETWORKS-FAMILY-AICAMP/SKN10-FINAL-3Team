{
 "cells": [
  {
   "cell_type": "markdown",
   "metadata": {},
   "source": [
    "# 라이브러리 및 세팅"
   ]
  },
  {
   "cell_type": "code",
   "execution_count": 8,
   "metadata": {},
   "outputs": [],
   "source": [
    "import requests\n",
    "import json\n",
    "import pandas as pd\n",
    "from tqdm.auto import tqdm"
   ]
  },
  {
   "cell_type": "code",
   "execution_count": 3,
   "metadata": {},
   "outputs": [],
   "source": [
    "data_path = 'data/crawling_data'\n",
    "OC = \"khs980714\"\n",
    "\n",
    "url = \"https://www.law.go.kr/\""
   ]
  },
  {
   "cell_type": "markdown",
   "metadata": {},
   "source": [
    "# 판례 데이터"
   ]
  },
  {
   "cell_type": "markdown",
   "metadata": {},
   "source": [
    "## 판례 목록"
   ]
  },
  {
   "cell_type": "code",
   "execution_count": 4,
   "metadata": {},
   "outputs": [],
   "source": [
    "def page_precsearch(page):\n",
    "  precsearch_url = \"/DRF/lawSearch.do?\"\n",
    "\n",
    "  params = {\n",
    "    \"OC\": OC,\n",
    "    \"target\": \"prec\",\n",
    "    \"type\": \"json\",\n",
    "    \"display\" : 100,\n",
    "    \"JO\": \"민법\",\n",
    "    \"page\": page\n",
    "  }\n",
    "\n",
    "  response = requests.get(url + precsearch_url, params=params)\n",
    "  data = response.json()\n",
    "\n",
    "  df = pd.DataFrame(data[\"PrecSearch\"]['prec']).iloc[:, 1:]\n",
    "  return df"
   ]
  },
  {
   "cell_type": "code",
   "execution_count": 10,
   "metadata": {},
   "outputs": [
    {
     "data": {
      "application/vnd.jupyter.widget-view+json": {
       "model_id": "ffd45fbddfc34f49acff48716c12cd67",
       "version_major": 2,
       "version_minor": 0
      },
      "text/plain": [
       "  0%|          | 0/100 [00:00<?, ?it/s]"
      ]
     },
     "metadata": {},
     "output_type": "display_data"
    },
    {
     "data": {
      "text/plain": [
       "(10000, 12)"
      ]
     },
     "execution_count": 10,
     "metadata": {},
     "output_type": "execute_result"
    }
   ],
   "source": [
    "precsearch_df = pd.DataFrame()\n",
    "\n",
    "for i in tqdm(range(0, 100)):\n",
    "  new_df = page_precsearch(i)\n",
    "  precsearch_df = pd.concat([precsearch_df, new_df])\n",
    "\n",
    "precsearch_df.shape"
   ]
  },
  {
   "cell_type": "code",
   "execution_count": 17,
   "metadata": {},
   "outputs": [
    {
     "data": {
      "text/html": [
       "<div>\n",
       "<style scoped>\n",
       "    .dataframe tbody tr th:only-of-type {\n",
       "        vertical-align: middle;\n",
       "    }\n",
       "\n",
       "    .dataframe tbody tr th {\n",
       "        vertical-align: top;\n",
       "    }\n",
       "\n",
       "    .dataframe thead th {\n",
       "        text-align: right;\n",
       "    }\n",
       "</style>\n",
       "<table border=\"1\" class=\"dataframe\">\n",
       "  <thead>\n",
       "    <tr style=\"text-align: right;\">\n",
       "      <th></th>\n",
       "      <th>사건번호</th>\n",
       "      <th>데이터출처명</th>\n",
       "      <th>사건종류코드</th>\n",
       "      <th>사건종류명</th>\n",
       "      <th>선고</th>\n",
       "      <th>선고일자</th>\n",
       "      <th>판례일련번호</th>\n",
       "      <th>판결유형</th>\n",
       "      <th>법원종류코드</th>\n",
       "      <th>법원명</th>\n",
       "      <th>판례상세링크</th>\n",
       "      <th>사건명</th>\n",
       "    </tr>\n",
       "  </thead>\n",
       "  <tbody>\n",
       "    <tr>\n",
       "      <th>0</th>\n",
       "      <td>2024다302217</td>\n",
       "      <td>대법원</td>\n",
       "      <td>400101</td>\n",
       "      <td>민사</td>\n",
       "      <td>선고</td>\n",
       "      <td>2025.03.27</td>\n",
       "      <td>605337</td>\n",
       "      <td>판결</td>\n",
       "      <td>NaN</td>\n",
       "      <td>대법원</td>\n",
       "      <td>/DRF/lawService.do?OC=khs980714&amp;target=prec&amp;ID...</td>\n",
       "      <td>임대료등청구</td>\n",
       "    </tr>\n",
       "    <tr>\n",
       "      <th>1</th>\n",
       "      <td>2023다283401</td>\n",
       "      <td>대법원</td>\n",
       "      <td>400101</td>\n",
       "      <td>민사</td>\n",
       "      <td>선고</td>\n",
       "      <td>2025.03.27</td>\n",
       "      <td>605333</td>\n",
       "      <td>판결</td>\n",
       "      <td>NaN</td>\n",
       "      <td>대법원</td>\n",
       "      <td>/DRF/lawService.do?OC=khs980714&amp;target=prec&amp;ID...</td>\n",
       "      <td>손해배상(기)</td>\n",
       "    </tr>\n",
       "    <tr>\n",
       "      <th>2</th>\n",
       "      <td>2021다245528</td>\n",
       "      <td>대법원</td>\n",
       "      <td>400101</td>\n",
       "      <td>민사</td>\n",
       "      <td>선고</td>\n",
       "      <td>2025.03.27</td>\n",
       "      <td>605281</td>\n",
       "      <td>판결</td>\n",
       "      <td>NaN</td>\n",
       "      <td>대법원</td>\n",
       "      <td>/DRF/lawService.do?OC=khs980714&amp;target=prec&amp;ID...</td>\n",
       "      <td>근로자지위확인등·근로자지위확인등</td>\n",
       "    </tr>\n",
       "    <tr>\n",
       "      <th>3</th>\n",
       "      <td>2024스866</td>\n",
       "      <td>대법원</td>\n",
       "      <td>400103</td>\n",
       "      <td>가사</td>\n",
       "      <td>자</td>\n",
       "      <td>2025.03.24</td>\n",
       "      <td>605331</td>\n",
       "      <td>결정</td>\n",
       "      <td>NaN</td>\n",
       "      <td>대법원</td>\n",
       "      <td>/DRF/lawService.do?OC=khs980714&amp;target=prec&amp;ID...</td>\n",
       "      <td>상속재산분할·기여분·상속재산분할</td>\n",
       "    </tr>\n",
       "    <tr>\n",
       "      <th>4</th>\n",
       "      <td>2024다315046</td>\n",
       "      <td>대법원</td>\n",
       "      <td>400101</td>\n",
       "      <td>민사</td>\n",
       "      <td>선고</td>\n",
       "      <td>2025.03.13</td>\n",
       "      <td>605077</td>\n",
       "      <td>판결</td>\n",
       "      <td>NaN</td>\n",
       "      <td>대법원</td>\n",
       "      <td>/DRF/lawService.do?OC=khs980714&amp;target=prec&amp;ID...</td>\n",
       "      <td>차임증액</td>\n",
       "    </tr>\n",
       "  </tbody>\n",
       "</table>\n",
       "</div>"
      ],
      "text/plain": [
       "          사건번호 데이터출처명  사건종류코드 사건종류명  선고        선고일자  판례일련번호 판결유형  법원종류코드  법원명  \\\n",
       "0  2024다302217    대법원  400101    민사  선고  2025.03.27  605337   판결     NaN  대법원   \n",
       "1  2023다283401    대법원  400101    민사  선고  2025.03.27  605333   판결     NaN  대법원   \n",
       "2  2021다245528    대법원  400101    민사  선고  2025.03.27  605281   판결     NaN  대법원   \n",
       "3     2024스866    대법원  400103    가사   자  2025.03.24  605331   결정     NaN  대법원   \n",
       "4  2024다315046    대법원  400101    민사  선고  2025.03.13  605077   판결     NaN  대법원   \n",
       "\n",
       "                                              판례상세링크                사건명  \n",
       "0  /DRF/lawService.do?OC=khs980714&target=prec&ID...             임대료등청구  \n",
       "1  /DRF/lawService.do?OC=khs980714&target=prec&ID...            손해배상(기)  \n",
       "2  /DRF/lawService.do?OC=khs980714&target=prec&ID...  근로자지위확인등·근로자지위확인등  \n",
       "3  /DRF/lawService.do?OC=khs980714&target=prec&ID...  상속재산분할·기여분·상속재산분할  \n",
       "4  /DRF/lawService.do?OC=khs980714&target=prec&ID...               차임증액  "
      ]
     },
     "execution_count": 17,
     "metadata": {},
     "output_type": "execute_result"
    }
   ],
   "source": [
    "precsearch_df.head()"
   ]
  },
  {
   "cell_type": "code",
   "execution_count": 11,
   "metadata": {},
   "outputs": [],
   "source": [
    "precsearch_df.to_csv(f\"{data_path}/precsearch_df.csv\", index=False)"
   ]
  },
  {
   "cell_type": "markdown",
   "metadata": {},
   "source": [
    "## 판례 상세"
   ]
  },
  {
   "cell_type": "code",
   "execution_count": 58,
   "metadata": {},
   "outputs": [],
   "source": [
    "precsearch_df = pd.read_csv(f\"{data_path}/precsearch_df.csv\")"
   ]
  },
  {
   "cell_type": "code",
   "execution_count": 57,
   "metadata": {},
   "outputs": [],
   "source": [
    "def page_precservice(ID):\n",
    "  precservice_url = \"/DRF/lawService.do?\"\n",
    "\n",
    "  params = {\n",
    "    \"OC\": OC,\n",
    "    \"target\": \"prec\",\n",
    "    \"type\": \"json\",\n",
    "    \"ID\": ID\n",
    "  }\n",
    "\n",
    "  response = requests.get(url + precservice_url, params=params)\n",
    "  data = response.json()\n",
    "\n",
    "  return data['PrecService']"
   ]
  },
  {
   "cell_type": "code",
   "execution_count": 61,
   "metadata": {},
   "outputs": [
    {
     "data": {
      "application/vnd.jupyter.widget-view+json": {
       "model_id": "17d67f75af55492e845e1e0ef1a0aae9",
       "version_major": 2,
       "version_minor": 0
      },
      "text/plain": [
       "  0%|          | 0/10000 [00:00<?, ?it/s]"
      ]
     },
     "metadata": {},
     "output_type": "display_data"
    }
   ],
   "source": [
    "for n in tqdm(precsearch_df['판례일련번호']):\n",
    "  data = page_precservice(n)\n",
    "\n",
    "  with open(f\"{data_path}/{n}.json\", \"w\", encoding=\"utf-8\") as f:\n",
    "    json.dump(data, f, ensure_ascii=False, indent=4)"
   ]
  },
  {
   "cell_type": "markdown",
   "metadata": {},
   "source": []
  },
  {
   "cell_type": "code",
   "execution_count": null,
   "metadata": {},
   "outputs": [],
   "source": []
  }
 ],
 "metadata": {
  "kernelspec": {
   "display_name": ".venv",
   "language": "python",
   "name": "python3"
  },
  "language_info": {
   "codemirror_mode": {
    "name": "ipython",
    "version": 3
   },
   "file_extension": ".py",
   "mimetype": "text/x-python",
   "name": "python",
   "nbconvert_exporter": "python",
   "pygments_lexer": "ipython3",
   "version": "3.11.9"
  }
 },
 "nbformat": 4,
 "nbformat_minor": 2
}
